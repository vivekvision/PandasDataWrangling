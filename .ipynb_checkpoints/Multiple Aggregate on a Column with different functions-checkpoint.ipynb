{
 "cells": [
  {
   "cell_type": "code",
   "execution_count": 4,
   "id": "2b59b096",
   "metadata": {},
   "outputs": [],
   "source": [
    "import numpy as np\n",
    "import pandas as pd\n",
    "\n",
    "df = pd.read_csv(\"./mycars.csv\")\n",
    "\n",
    "df['Invoice'] = df['Invoice'].str.replace(r'$', r'', regex=True)\n",
    "df['Invoice'] = df['Invoice'].str.replace(r',' , r'', regex=True)\n",
    "df['Invoice'] = df['Invoice'].astype('float')"
   ]
  },
  {
   "cell_type": "code",
   "execution_count": 5,
   "id": "efdbbbef",
   "metadata": {},
   "outputs": [],
   "source": [
    "# as_index=False does not work\n",
    "\n",
    "# need to specify which column would be used in aggregation\n",
    "data1 = df.groupby(['Make', 'Model', 'Origin'])['Invoice'].agg(\\\n",
    "                                                        [('InvoiceMean', np.mean), ('InvoiceSum', np.sum)])"
   ]
  },
  {
   "cell_type": "code",
   "execution_count": 7,
   "id": "1787bfe1",
   "metadata": {},
   "outputs": [],
   "source": [
    "data1 = data1.reset_index()"
   ]
  },
  {
   "cell_type": "code",
   "execution_count": 8,
   "id": "23e18aff",
   "metadata": {},
   "outputs": [
    {
     "data": {
      "text/html": [
       "<div>\n",
       "<style scoped>\n",
       "    .dataframe tbody tr th:only-of-type {\n",
       "        vertical-align: middle;\n",
       "    }\n",
       "\n",
       "    .dataframe tbody tr th {\n",
       "        vertical-align: top;\n",
       "    }\n",
       "\n",
       "    .dataframe thead th {\n",
       "        text-align: right;\n",
       "    }\n",
       "</style>\n",
       "<table border=\"1\" class=\"dataframe\">\n",
       "  <thead>\n",
       "    <tr style=\"text-align: right;\">\n",
       "      <th></th>\n",
       "      <th>Make</th>\n",
       "      <th>Model</th>\n",
       "      <th>Origin</th>\n",
       "      <th>InvoiceMean</th>\n",
       "      <th>InvoiceSum</th>\n",
       "    </tr>\n",
       "  </thead>\n",
       "  <tbody>\n",
       "    <tr>\n",
       "      <th>0</th>\n",
       "      <td>Acura</td>\n",
       "      <td>3.5 RL 4dr</td>\n",
       "      <td>Asia</td>\n",
       "      <td>39014.0</td>\n",
       "      <td>39014.0</td>\n",
       "    </tr>\n",
       "    <tr>\n",
       "      <th>1</th>\n",
       "      <td>Acura</td>\n",
       "      <td>3.5 RL w/Navigation 4dr</td>\n",
       "      <td>Asia</td>\n",
       "      <td>41100.0</td>\n",
       "      <td>41100.0</td>\n",
       "    </tr>\n",
       "    <tr>\n",
       "      <th>2</th>\n",
       "      <td>Acura</td>\n",
       "      <td>MDX</td>\n",
       "      <td>Asia</td>\n",
       "      <td>33337.0</td>\n",
       "      <td>33337.0</td>\n",
       "    </tr>\n",
       "    <tr>\n",
       "      <th>3</th>\n",
       "      <td>Acura</td>\n",
       "      <td>NSX coupe 2dr manual S</td>\n",
       "      <td>Asia</td>\n",
       "      <td>79978.0</td>\n",
       "      <td>79978.0</td>\n",
       "    </tr>\n",
       "    <tr>\n",
       "      <th>4</th>\n",
       "      <td>Acura</td>\n",
       "      <td>RSX Type S 2dr</td>\n",
       "      <td>Asia</td>\n",
       "      <td>21761.0</td>\n",
       "      <td>21761.0</td>\n",
       "    </tr>\n",
       "  </tbody>\n",
       "</table>\n",
       "</div>"
      ],
      "text/plain": [
       "    Make                    Model Origin  InvoiceMean  InvoiceSum\n",
       "0  Acura               3.5 RL 4dr   Asia      39014.0     39014.0\n",
       "1  Acura  3.5 RL w/Navigation 4dr   Asia      41100.0     41100.0\n",
       "2  Acura                      MDX   Asia      33337.0     33337.0\n",
       "3  Acura   NSX coupe 2dr manual S   Asia      79978.0     79978.0\n",
       "4  Acura           RSX Type S 2dr   Asia      21761.0     21761.0"
      ]
     },
     "execution_count": 8,
     "metadata": {},
     "output_type": "execute_result"
    }
   ],
   "source": [
    "data1.head()"
   ]
  },
  {
   "cell_type": "code",
   "execution_count": null,
   "id": "dd3a8e4e",
   "metadata": {},
   "outputs": [],
   "source": []
  }
 ],
 "metadata": {
  "kernelspec": {
   "display_name": "Python 3 (ipykernel)",
   "language": "python",
   "name": "python3"
  },
  "language_info": {
   "codemirror_mode": {
    "name": "ipython",
    "version": 3
   },
   "file_extension": ".py",
   "mimetype": "text/x-python",
   "name": "python",
   "nbconvert_exporter": "python",
   "pygments_lexer": "ipython3",
   "version": "3.9.7"
  }
 },
 "nbformat": 4,
 "nbformat_minor": 5
}
