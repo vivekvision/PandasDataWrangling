{
 "cells": [
  {
   "cell_type": "code",
   "execution_count": 1,
   "id": "cb486086",
   "metadata": {},
   "outputs": [],
   "source": [
    "import pandas as pd"
   ]
  },
  {
   "cell_type": "code",
   "execution_count": 2,
   "id": "b4ba0b51",
   "metadata": {},
   "outputs": [],
   "source": [
    "df = pd.read_csv(\"./mycars.csv\")"
   ]
  },
  {
   "cell_type": "code",
   "execution_count": 3,
   "id": "ac5e15cd",
   "metadata": {},
   "outputs": [],
   "source": [
    "# along with sorting \n",
    "df['identifier1'] = df.apply(lambda x: '_'.join(sorted([x.Make, x.Model, x.Origin])), axis=1)"
   ]
  },
  {
   "cell_type": "code",
   "execution_count": 4,
   "id": "fc6df172",
   "metadata": {},
   "outputs": [
    {
     "data": {
      "text/plain": [
       "0                            Acura_Asia_MDX\n",
       "1                 Acura_Asia_RSX Type S 2dr\n",
       "2                        Acura_Asia_TSX 4dr\n",
       "3                         Acura_Asia_TL 4dr\n",
       "4                     3.5 RL 4dr_Acura_Asia\n",
       "                       ...                 \n",
       "423    C70 LPT convertible 2dr_Europe_Volvo\n",
       "424    C70 HPT convertible 2dr_Europe_Volvo\n",
       "425                 Europe_S80 T6 4dr_Volvo\n",
       "426                        Europe_V40_Volvo\n",
       "427                       Europe_Volvo_XC70\n",
       "Name: identifier1, Length: 428, dtype: object"
      ]
     },
     "execution_count": 4,
     "metadata": {},
     "output_type": "execute_result"
    }
   ],
   "source": [
    "df['identifier1']"
   ]
  },
  {
   "cell_type": "code",
   "execution_count": 5,
   "id": "48dcbb91",
   "metadata": {},
   "outputs": [],
   "source": [
    "# if sorting is not required \n",
    "df['identifier3'] = df.apply(lambda x: '_'.join([x['Make'], x['Model'], x['Origin']]), axis=1)"
   ]
  },
  {
   "cell_type": "code",
   "execution_count": 6,
   "id": "1c89baa6",
   "metadata": {},
   "outputs": [
    {
     "data": {
      "text/plain": [
       "0                            Acura_MDX_Asia\n",
       "1                 Acura_RSX Type S 2dr_Asia\n",
       "2                        Acura_TSX 4dr_Asia\n",
       "3                         Acura_TL 4dr_Asia\n",
       "4                     Acura_3.5 RL 4dr_Asia\n",
       "                       ...                 \n",
       "423    Volvo_C70 LPT convertible 2dr_Europe\n",
       "424    Volvo_C70 HPT convertible 2dr_Europe\n",
       "425                 Volvo_S80 T6 4dr_Europe\n",
       "426                        Volvo_V40_Europe\n",
       "427                       Volvo_XC70_Europe\n",
       "Name: identifier3, Length: 428, dtype: object"
      ]
     },
     "execution_count": 6,
     "metadata": {},
     "output_type": "execute_result"
    }
   ],
   "source": [
    "df['identifier3']"
   ]
  },
  {
   "cell_type": "code",
   "execution_count": null,
   "id": "4ffa1f46",
   "metadata": {},
   "outputs": [],
   "source": []
  },
  {
   "cell_type": "code",
   "execution_count": null,
   "id": "1cde2201",
   "metadata": {},
   "outputs": [],
   "source": []
  }
 ],
 "metadata": {
  "kernelspec": {
   "display_name": "Python 3 (ipykernel)",
   "language": "python",
   "name": "python3"
  },
  "language_info": {
   "codemirror_mode": {
    "name": "ipython",
    "version": 3
   },
   "file_extension": ".py",
   "mimetype": "text/x-python",
   "name": "python",
   "nbconvert_exporter": "python",
   "pygments_lexer": "ipython3",
   "version": "3.9.7"
  }
 },
 "nbformat": 4,
 "nbformat_minor": 5
}
