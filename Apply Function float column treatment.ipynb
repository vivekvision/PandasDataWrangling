{
 "cells": [
  {
   "cell_type": "code",
   "execution_count": 3,
   "id": "3d58f00b",
   "metadata": {},
   "outputs": [],
   "source": [
    "import numpy as np\n",
    "import pandas as pd"
   ]
  },
  {
   "cell_type": "code",
   "execution_count": 4,
   "id": "2a13713b",
   "metadata": {},
   "outputs": [],
   "source": [
    "df = pd.read_csv(\"./mycars.csv\")"
   ]
  },
  {
   "cell_type": "code",
   "execution_count": 5,
   "id": "4701c50c",
   "metadata": {},
   "outputs": [],
   "source": [
    "df['MSRP_Enriched'] = df['MSRP']\n",
    "df['MSRP_Enriched'] = df.apply(lambda x: str(x['MSRP_Enriched']).replace(',', ''), axis=1)\n",
    "df['MSRP_Enriched'] = df.apply(lambda x: str(x['MSRP_Enriched']).replace('$', ''), axis=1)\n",
    "df['MSRP_Enriched'] = df['MSRP_Enriched'].astype('float')"
   ]
  },
  {
   "cell_type": "code",
   "execution_count": 6,
   "id": "06124c6b",
   "metadata": {},
   "outputs": [
    {
     "data": {
      "text/plain": [
       "0      36945.0\n",
       "1      23820.0\n",
       "2      26990.0\n",
       "3      33195.0\n",
       "4      43755.0\n",
       "        ...   \n",
       "423    40565.0\n",
       "424    42565.0\n",
       "425    45210.0\n",
       "426    26135.0\n",
       "427    35145.0\n",
       "Name: MSRP_Enriched, Length: 428, dtype: float64"
      ]
     },
     "execution_count": 6,
     "metadata": {},
     "output_type": "execute_result"
    }
   ],
   "source": [
    "df['MSRP_Enriched']"
   ]
  },
  {
   "cell_type": "code",
   "execution_count": 7,
   "id": "f3c7626b",
   "metadata": {},
   "outputs": [],
   "source": [
    "# Another alternative \n",
    "\n",
    "df['MSRP_Enriched'] = df['MSRP']\n",
    "df['MSRP_Enriched'] = df['MSRP_Enriched'].str.replace(r',', r'', regex=True)\n",
    "df['MSRP_Enriched'] = df['MSRP_Enriched'].str.replace(r'$', r'', regex=True)\n",
    "df['MSRP_Enriched'] = df['MSRP_Enriched'].astype('float')"
   ]
  },
  {
   "cell_type": "code",
   "execution_count": 8,
   "id": "e8c32e1a",
   "metadata": {},
   "outputs": [
    {
     "data": {
      "text/plain": [
       "0      36945.0\n",
       "1      23820.0\n",
       "2      26990.0\n",
       "3      33195.0\n",
       "4      43755.0\n",
       "        ...   \n",
       "423    40565.0\n",
       "424    42565.0\n",
       "425    45210.0\n",
       "426    26135.0\n",
       "427    35145.0\n",
       "Name: MSRP_Enriched, Length: 428, dtype: float64"
      ]
     },
     "execution_count": 8,
     "metadata": {},
     "output_type": "execute_result"
    }
   ],
   "source": [
    "df['MSRP_Enriched']"
   ]
  },
  {
   "cell_type": "code",
   "execution_count": null,
   "id": "572d92d2",
   "metadata": {},
   "outputs": [],
   "source": []
  }
 ],
 "metadata": {
  "kernelspec": {
   "display_name": "Python 3 (ipykernel)",
   "language": "python",
   "name": "python3"
  },
  "language_info": {
   "codemirror_mode": {
    "name": "ipython",
    "version": 3
   },
   "file_extension": ".py",
   "mimetype": "text/x-python",
   "name": "python",
   "nbconvert_exporter": "python",
   "pygments_lexer": "ipython3",
   "version": "3.9.7"
  }
 },
 "nbformat": 4,
 "nbformat_minor": 5
}
