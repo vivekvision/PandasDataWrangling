{
 "cells": [
  {
   "cell_type": "code",
   "execution_count": 10,
   "id": "48148dcc",
   "metadata": {},
   "outputs": [],
   "source": [
    "import pandas as pd"
   ]
  },
  {
   "cell_type": "code",
   "execution_count": 11,
   "id": "f644adea",
   "metadata": {},
   "outputs": [],
   "source": [
    "df = pd.read_csv(\"./Ticker.csv\")"
   ]
  },
  {
   "cell_type": "code",
   "execution_count": 12,
   "id": "4d5336e9",
   "metadata": {},
   "outputs": [
    {
     "data": {
      "text/html": [
       "<div>\n",
       "<style scoped>\n",
       "    .dataframe tbody tr th:only-of-type {\n",
       "        vertical-align: middle;\n",
       "    }\n",
       "\n",
       "    .dataframe tbody tr th {\n",
       "        vertical-align: top;\n",
       "    }\n",
       "\n",
       "    .dataframe thead th {\n",
       "        text-align: right;\n",
       "    }\n",
       "</style>\n",
       "<table border=\"1\" class=\"dataframe\">\n",
       "  <thead>\n",
       "    <tr style=\"text-align: right;\">\n",
       "      <th></th>\n",
       "      <th>Date</th>\n",
       "      <th>Close</th>\n",
       "      <th>Ticker</th>\n",
       "    </tr>\n",
       "  </thead>\n",
       "  <tbody>\n",
       "    <tr>\n",
       "      <th>0</th>\n",
       "      <td>2021-08-20</td>\n",
       "      <td>88.940002</td>\n",
       "      <td>ORCL</td>\n",
       "    </tr>\n",
       "    <tr>\n",
       "      <th>1</th>\n",
       "      <td>2021-08-23</td>\n",
       "      <td>89.120003</td>\n",
       "      <td>ORCL</td>\n",
       "    </tr>\n",
       "    <tr>\n",
       "      <th>2</th>\n",
       "      <td>2021-08-24</td>\n",
       "      <td>88.550003</td>\n",
       "      <td>ORCL</td>\n",
       "    </tr>\n",
       "  </tbody>\n",
       "</table>\n",
       "</div>"
      ],
      "text/plain": [
       "         Date      Close Ticker\n",
       "0  2021-08-20  88.940002   ORCL\n",
       "1  2021-08-23  89.120003   ORCL\n",
       "2  2021-08-24  88.550003   ORCL"
      ]
     },
     "execution_count": 12,
     "metadata": {},
     "output_type": "execute_result"
    }
   ],
   "source": [
    "df.head(3)"
   ]
  },
  {
   "cell_type": "markdown",
   "id": "11c60918",
   "metadata": {},
   "source": [
    "lambda function syntax can be applied for more complex calculations even for each group in a group by"
   ]
  },
  {
   "cell_type": "code",
   "execution_count": 13,
   "id": "b997e9a6",
   "metadata": {},
   "outputs": [],
   "source": [
    "df[\"DailyReturn\"] = df.sort_values(\"Date\").groupby(\"Ticker\")[\"Close\"]\\\n",
    "                                         .transform(lambda x: x / x.shift(1) - 1)"
   ]
  },
  {
   "cell_type": "code",
   "execution_count": 14,
   "id": "cdec55b5",
   "metadata": {},
   "outputs": [
    {
     "data": {
      "text/html": [
       "<div>\n",
       "<style scoped>\n",
       "    .dataframe tbody tr th:only-of-type {\n",
       "        vertical-align: middle;\n",
       "    }\n",
       "\n",
       "    .dataframe tbody tr th {\n",
       "        vertical-align: top;\n",
       "    }\n",
       "\n",
       "    .dataframe thead th {\n",
       "        text-align: right;\n",
       "    }\n",
       "</style>\n",
       "<table border=\"1\" class=\"dataframe\">\n",
       "  <thead>\n",
       "    <tr style=\"text-align: right;\">\n",
       "      <th></th>\n",
       "      <th>Date</th>\n",
       "      <th>Close</th>\n",
       "      <th>Ticker</th>\n",
       "      <th>DailyReturn</th>\n",
       "    </tr>\n",
       "  </thead>\n",
       "  <tbody>\n",
       "    <tr>\n",
       "      <th>0</th>\n",
       "      <td>2021-08-20</td>\n",
       "      <td>88.940002</td>\n",
       "      <td>ORCL</td>\n",
       "      <td>NaN</td>\n",
       "    </tr>\n",
       "    <tr>\n",
       "      <th>1</th>\n",
       "      <td>2021-08-23</td>\n",
       "      <td>89.120003</td>\n",
       "      <td>ORCL</td>\n",
       "      <td>0.002024</td>\n",
       "    </tr>\n",
       "    <tr>\n",
       "      <th>2</th>\n",
       "      <td>2021-08-24</td>\n",
       "      <td>88.550003</td>\n",
       "      <td>ORCL</td>\n",
       "      <td>-0.006396</td>\n",
       "    </tr>\n",
       "    <tr>\n",
       "      <th>3</th>\n",
       "      <td>2021-08-25</td>\n",
       "      <td>88.620003</td>\n",
       "      <td>ORCL</td>\n",
       "      <td>0.000791</td>\n",
       "    </tr>\n",
       "    <tr>\n",
       "      <th>4</th>\n",
       "      <td>2021-08-26</td>\n",
       "      <td>88.720001</td>\n",
       "      <td>ORCL</td>\n",
       "      <td>0.001128</td>\n",
       "    </tr>\n",
       "    <tr>\n",
       "      <th>...</th>\n",
       "      <td>...</td>\n",
       "      <td>...</td>\n",
       "      <td>...</td>\n",
       "      <td>...</td>\n",
       "    </tr>\n",
       "    <tr>\n",
       "      <th>751</th>\n",
       "      <td>2022-08-15</td>\n",
       "      <td>143.179993</td>\n",
       "      <td>MAZN</td>\n",
       "      <td>-0.002578</td>\n",
       "    </tr>\n",
       "    <tr>\n",
       "      <th>752</th>\n",
       "      <td>2022-08-16</td>\n",
       "      <td>144.779999</td>\n",
       "      <td>MAZN</td>\n",
       "      <td>0.011175</td>\n",
       "    </tr>\n",
       "    <tr>\n",
       "      <th>753</th>\n",
       "      <td>2022-08-17</td>\n",
       "      <td>142.100006</td>\n",
       "      <td>MAZN</td>\n",
       "      <td>-0.018511</td>\n",
       "    </tr>\n",
       "    <tr>\n",
       "      <th>754</th>\n",
       "      <td>2022-08-18</td>\n",
       "      <td>142.300003</td>\n",
       "      <td>MAZN</td>\n",
       "      <td>0.001407</td>\n",
       "    </tr>\n",
       "    <tr>\n",
       "      <th>755</th>\n",
       "      <td>2022-08-19</td>\n",
       "      <td>138.229996</td>\n",
       "      <td>MAZN</td>\n",
       "      <td>-0.028602</td>\n",
       "    </tr>\n",
       "  </tbody>\n",
       "</table>\n",
       "<p>756 rows × 4 columns</p>\n",
       "</div>"
      ],
      "text/plain": [
       "           Date       Close Ticker  DailyReturn\n",
       "0    2021-08-20   88.940002   ORCL          NaN\n",
       "1    2021-08-23   89.120003   ORCL     0.002024\n",
       "2    2021-08-24   88.550003   ORCL    -0.006396\n",
       "3    2021-08-25   88.620003   ORCL     0.000791\n",
       "4    2021-08-26   88.720001   ORCL     0.001128\n",
       "..          ...         ...    ...          ...\n",
       "751  2022-08-15  143.179993   MAZN    -0.002578\n",
       "752  2022-08-16  144.779999   MAZN     0.011175\n",
       "753  2022-08-17  142.100006   MAZN    -0.018511\n",
       "754  2022-08-18  142.300003   MAZN     0.001407\n",
       "755  2022-08-19  138.229996   MAZN    -0.028602\n",
       "\n",
       "[756 rows x 4 columns]"
      ]
     },
     "execution_count": 14,
     "metadata": {},
     "output_type": "execute_result"
    }
   ],
   "source": [
    "df"
   ]
  },
  {
   "cell_type": "markdown",
   "id": "b02e1785",
   "metadata": {},
   "source": [
    "## Get Previous day's Close Price for each Ticker"
   ]
  },
  {
   "cell_type": "markdown",
   "id": "da7d0c94",
   "metadata": {},
   "source": [
    "No need to use the transform function because shift naturally returns a value for each row in the data, rather than an aggregation."
   ]
  },
  {
   "cell_type": "code",
   "execution_count": 15,
   "id": "81f5965b",
   "metadata": {},
   "outputs": [],
   "source": [
    "df1 = df.copy()"
   ]
  },
  {
   "cell_type": "code",
   "execution_count": 16,
   "id": "f5a12164",
   "metadata": {},
   "outputs": [],
   "source": [
    "df1['PreviousClose'] = df1.sort_values(\"Date\").groupby(\"Ticker\")[\"Close\"].shift(1)"
   ]
  },
  {
   "cell_type": "code",
   "execution_count": 17,
   "id": "6605dccd",
   "metadata": {},
   "outputs": [
    {
     "data": {
      "text/html": [
       "<div>\n",
       "<style scoped>\n",
       "    .dataframe tbody tr th:only-of-type {\n",
       "        vertical-align: middle;\n",
       "    }\n",
       "\n",
       "    .dataframe tbody tr th {\n",
       "        vertical-align: top;\n",
       "    }\n",
       "\n",
       "    .dataframe thead th {\n",
       "        text-align: right;\n",
       "    }\n",
       "</style>\n",
       "<table border=\"1\" class=\"dataframe\">\n",
       "  <thead>\n",
       "    <tr style=\"text-align: right;\">\n",
       "      <th></th>\n",
       "      <th>Date</th>\n",
       "      <th>Close</th>\n",
       "      <th>Ticker</th>\n",
       "      <th>DailyReturn</th>\n",
       "      <th>PreviousClose</th>\n",
       "    </tr>\n",
       "  </thead>\n",
       "  <tbody>\n",
       "    <tr>\n",
       "      <th>0</th>\n",
       "      <td>2021-08-20</td>\n",
       "      <td>88.940002</td>\n",
       "      <td>ORCL</td>\n",
       "      <td>NaN</td>\n",
       "      <td>NaN</td>\n",
       "    </tr>\n",
       "    <tr>\n",
       "      <th>1</th>\n",
       "      <td>2021-08-23</td>\n",
       "      <td>89.120003</td>\n",
       "      <td>ORCL</td>\n",
       "      <td>0.002024</td>\n",
       "      <td>88.940002</td>\n",
       "    </tr>\n",
       "    <tr>\n",
       "      <th>2</th>\n",
       "      <td>2021-08-24</td>\n",
       "      <td>88.550003</td>\n",
       "      <td>ORCL</td>\n",
       "      <td>-0.006396</td>\n",
       "      <td>89.120003</td>\n",
       "    </tr>\n",
       "    <tr>\n",
       "      <th>3</th>\n",
       "      <td>2021-08-25</td>\n",
       "      <td>88.620003</td>\n",
       "      <td>ORCL</td>\n",
       "      <td>0.000791</td>\n",
       "      <td>88.550003</td>\n",
       "    </tr>\n",
       "    <tr>\n",
       "      <th>4</th>\n",
       "      <td>2021-08-26</td>\n",
       "      <td>88.720001</td>\n",
       "      <td>ORCL</td>\n",
       "      <td>0.001128</td>\n",
       "      <td>88.620003</td>\n",
       "    </tr>\n",
       "  </tbody>\n",
       "</table>\n",
       "</div>"
      ],
      "text/plain": [
       "         Date      Close Ticker  DailyReturn  PreviousClose\n",
       "0  2021-08-20  88.940002   ORCL          NaN            NaN\n",
       "1  2021-08-23  89.120003   ORCL     0.002024      88.940002\n",
       "2  2021-08-24  88.550003   ORCL    -0.006396      89.120003\n",
       "3  2021-08-25  88.620003   ORCL     0.000791      88.550003\n",
       "4  2021-08-26  88.720001   ORCL     0.001128      88.620003"
      ]
     },
     "execution_count": 17,
     "metadata": {},
     "output_type": "execute_result"
    }
   ],
   "source": [
    "df1.head(5)"
   ]
  },
  {
   "cell_type": "code",
   "execution_count": null,
   "id": "bdaee420",
   "metadata": {},
   "outputs": [],
   "source": []
  }
 ],
 "metadata": {
  "kernelspec": {
   "display_name": "Python 3 (ipykernel)",
   "language": "python",
   "name": "python3"
  },
  "language_info": {
   "codemirror_mode": {
    "name": "ipython",
    "version": 3
   },
   "file_extension": ".py",
   "mimetype": "text/x-python",
   "name": "python",
   "nbconvert_exporter": "python",
   "pygments_lexer": "ipython3",
   "version": "3.9.7"
  }
 },
 "nbformat": 4,
 "nbformat_minor": 5
}
