{
 "cells": [
  {
   "cell_type": "code",
   "execution_count": null,
   "id": "f3aea756",
   "metadata": {},
   "outputs": [],
   "source": []
  },
  {
   "cell_type": "markdown",
   "id": "8678a477",
   "metadata": {},
   "source": [
    "## Filter a Pandas DataFrame based on complex criteria using boolean indexing"
   ]
  },
  {
   "cell_type": "markdown",
   "id": "87305389",
   "metadata": {},
   "source": [
    "Create a hardcoded Pandas DataFrame with columns 'A', 'B', and 'C'. \n",
    "\n",
    "define the filter criteria using boolean indexing, where we filter the DataFrame based on complex conditions involving the values in columns 'A', 'B', and 'C'. \n",
    "\n",
    "use the & and | operators to combine multiple conditions, and the isin() function to check whether the values in column 'B' are in a specified list. \n",
    "\n",
    "\n",
    "then use the filter criteria to filter the DataFrame using boolean indexing, and assign the resulting filtered DataFrame to a new variable filtered_df. \n",
    "\n"
   ]
  },
  {
   "cell_type": "code",
   "execution_count": null,
   "id": "d6175e3b",
   "metadata": {},
   "outputs": [],
   "source": []
  },
  {
   "cell_type": "code",
   "execution_count": 2,
   "id": "4bc68f47",
   "metadata": {},
   "outputs": [
    {
     "data": {
      "text/html": [
       "<div>\n",
       "<style scoped>\n",
       "    .dataframe tbody tr th:only-of-type {\n",
       "        vertical-align: middle;\n",
       "    }\n",
       "\n",
       "    .dataframe tbody tr th {\n",
       "        vertical-align: top;\n",
       "    }\n",
       "\n",
       "    .dataframe thead th {\n",
       "        text-align: right;\n",
       "    }\n",
       "</style>\n",
       "<table border=\"1\" class=\"dataframe\">\n",
       "  <thead>\n",
       "    <tr style=\"text-align: right;\">\n",
       "      <th></th>\n",
       "      <th>A</th>\n",
       "      <th>B</th>\n",
       "      <th>C</th>\n",
       "    </tr>\n",
       "  </thead>\n",
       "  <tbody>\n",
       "    <tr>\n",
       "      <th>0</th>\n",
       "      <td>10</td>\n",
       "      <td>a</td>\n",
       "      <td>100</td>\n",
       "    </tr>\n",
       "    <tr>\n",
       "      <th>1</th>\n",
       "      <td>20</td>\n",
       "      <td>b</td>\n",
       "      <td>200</td>\n",
       "    </tr>\n",
       "    <tr>\n",
       "      <th>2</th>\n",
       "      <td>30</td>\n",
       "      <td>c</td>\n",
       "      <td>300</td>\n",
       "    </tr>\n",
       "  </tbody>\n",
       "</table>\n",
       "</div>"
      ],
      "text/plain": [
       "    A  B    C\n",
       "0  10  a  100\n",
       "1  20  b  200\n",
       "2  30  c  300"
      ]
     },
     "execution_count": 2,
     "metadata": {},
     "output_type": "execute_result"
    }
   ],
   "source": [
    "import pandas as pd\n",
    "import numpy as np\n",
    "\n",
    "# create a hardcoded Pandas DataFrame\n",
    "df = pd.DataFrame({'A': [10, 20, 30, 40, 50], \n",
    "                   'B': ['a', 'b', 'c', 'd', 'e'],\n",
    "                   'C': [100, 200, 300, 400, 500]})\n",
    "\n",
    "# define the filter criteria using boolean indexing\n",
    "criteria = (df['A'] > 20) & (df['B'].isin(['b', 'c'])) | (df['C'] < 300)\n",
    "\n",
    "# filter the DataFrame using the criteria\n",
    "filtered_df = df[criteria]\n",
    "\n",
    "\n",
    "filtered_df\n"
   ]
  },
  {
   "cell_type": "code",
   "execution_count": null,
   "id": "8f905f2f",
   "metadata": {},
   "outputs": [],
   "source": []
  },
  {
   "cell_type": "markdown",
   "id": "be6fdb62",
   "metadata": {},
   "source": [
    "## Filter a Pandas DataFrame based on complex criteria using the .loc indexer"
   ]
  },
  {
   "cell_type": "markdown",
   "id": "47cd5f90",
   "metadata": {},
   "source": [
    "Pandas DataFrame with columns 'A', 'B', and 'C'. \n",
    "\n",
    "define the filter criteria using boolean indexing, where we filter the DataFrame based on complex conditions involving the values in columns 'A', 'B', and 'C'. \n",
    "\n",
    "use the & and | operators to combine multiple conditions, and the isin() function to check whether the values in column 'B' are in a specified list.\n",
    "\n",
    "use the .loc indexer to filter the DataFrame based on the filter criteria. The .loc indexer allows us to select rows and columns of a DataFrame by label or boolean indexing, and is particularly useful for filtering based on complex criteria.\n",
    "\n",
    "In this case, we pass the boolean indexing criteria as the first argument to .loc, and : as the second argument to select all columns.\n",
    "\n",
    "Finally, assign the resulting filtered DataFrame to a new variable filtered_df \n"
   ]
  },
  {
   "cell_type": "code",
   "execution_count": 3,
   "id": "0ee03db0",
   "metadata": {},
   "outputs": [
    {
     "data": {
      "text/html": [
       "<div>\n",
       "<style scoped>\n",
       "    .dataframe tbody tr th:only-of-type {\n",
       "        vertical-align: middle;\n",
       "    }\n",
       "\n",
       "    .dataframe tbody tr th {\n",
       "        vertical-align: top;\n",
       "    }\n",
       "\n",
       "    .dataframe thead th {\n",
       "        text-align: right;\n",
       "    }\n",
       "</style>\n",
       "<table border=\"1\" class=\"dataframe\">\n",
       "  <thead>\n",
       "    <tr style=\"text-align: right;\">\n",
       "      <th></th>\n",
       "      <th>A</th>\n",
       "      <th>B</th>\n",
       "      <th>C</th>\n",
       "    </tr>\n",
       "  </thead>\n",
       "  <tbody>\n",
       "    <tr>\n",
       "      <th>0</th>\n",
       "      <td>10</td>\n",
       "      <td>a</td>\n",
       "      <td>100</td>\n",
       "    </tr>\n",
       "    <tr>\n",
       "      <th>1</th>\n",
       "      <td>20</td>\n",
       "      <td>b</td>\n",
       "      <td>200</td>\n",
       "    </tr>\n",
       "    <tr>\n",
       "      <th>2</th>\n",
       "      <td>30</td>\n",
       "      <td>c</td>\n",
       "      <td>300</td>\n",
       "    </tr>\n",
       "  </tbody>\n",
       "</table>\n",
       "</div>"
      ],
      "text/plain": [
       "    A  B    C\n",
       "0  10  a  100\n",
       "1  20  b  200\n",
       "2  30  c  300"
      ]
     },
     "execution_count": 3,
     "metadata": {},
     "output_type": "execute_result"
    }
   ],
   "source": [
    "import pandas as pd\n",
    "import numpy as np\n",
    "\n",
    "# create a hardcoded Pandas DataFrame\n",
    "df = pd.DataFrame({'A': [10, 20, 30, 40, 50], \n",
    "                   'B': ['a', 'b', 'c', 'd', 'e'],\n",
    "                   'C': [100, 200, 300, 400, 500]})\n",
    "\n",
    "# define the filter criteria using boolean indexing\n",
    "criteria = (df['A'] > 20) & (df['B'].isin(['b', 'c'])) | (df['C'] < 300)\n",
    "\n",
    "# filter the DataFrame using the .loc indexer and the criteria\n",
    "filtered_df = df.loc[criteria, :]\n",
    "\n",
    "\n",
    "filtered_df\n"
   ]
  },
  {
   "cell_type": "code",
   "execution_count": null,
   "id": "11dce9b2",
   "metadata": {},
   "outputs": [],
   "source": []
  }
 ],
 "metadata": {
  "kernelspec": {
   "display_name": "Python 3 (ipykernel)",
   "language": "python",
   "name": "python3"
  },
  "language_info": {
   "codemirror_mode": {
    "name": "ipython",
    "version": 3
   },
   "file_extension": ".py",
   "mimetype": "text/x-python",
   "name": "python",
   "nbconvert_exporter": "python",
   "pygments_lexer": "ipython3",
   "version": "3.9.7"
  }
 },
 "nbformat": 4,
 "nbformat_minor": 5
}
