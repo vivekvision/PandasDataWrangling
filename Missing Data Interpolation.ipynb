{
 "cells": [
  {
   "cell_type": "code",
   "execution_count": 1,
   "id": "1277e3ca",
   "metadata": {},
   "outputs": [],
   "source": [
    "import pandas as pd"
   ]
  },
  {
   "cell_type": "code",
   "execution_count": 2,
   "id": "ea1b2870",
   "metadata": {},
   "outputs": [],
   "source": [
    "df = pd.read_csv(\"./Ticker.csv\")"
   ]
  },
  {
   "cell_type": "code",
   "execution_count": 3,
   "id": "bce23852",
   "metadata": {},
   "outputs": [
    {
     "data": {
      "text/html": [
       "<div>\n",
       "<style scoped>\n",
       "    .dataframe tbody tr th:only-of-type {\n",
       "        vertical-align: middle;\n",
       "    }\n",
       "\n",
       "    .dataframe tbody tr th {\n",
       "        vertical-align: top;\n",
       "    }\n",
       "\n",
       "    .dataframe thead th {\n",
       "        text-align: right;\n",
       "    }\n",
       "</style>\n",
       "<table border=\"1\" class=\"dataframe\">\n",
       "  <thead>\n",
       "    <tr style=\"text-align: right;\">\n",
       "      <th></th>\n",
       "      <th>Date</th>\n",
       "      <th>Close</th>\n",
       "      <th>Ticker</th>\n",
       "    </tr>\n",
       "  </thead>\n",
       "  <tbody>\n",
       "    <tr>\n",
       "      <th>0</th>\n",
       "      <td>2021-08-20</td>\n",
       "      <td>88.940002</td>\n",
       "      <td>ORCL</td>\n",
       "    </tr>\n",
       "    <tr>\n",
       "      <th>1</th>\n",
       "      <td>2021-08-23</td>\n",
       "      <td>89.120003</td>\n",
       "      <td>ORCL</td>\n",
       "    </tr>\n",
       "    <tr>\n",
       "      <th>2</th>\n",
       "      <td>2021-08-24</td>\n",
       "      <td>88.550003</td>\n",
       "      <td>ORCL</td>\n",
       "    </tr>\n",
       "  </tbody>\n",
       "</table>\n",
       "</div>"
      ],
      "text/plain": [
       "         Date      Close Ticker\n",
       "0  2021-08-20  88.940002   ORCL\n",
       "1  2021-08-23  89.120003   ORCL\n",
       "2  2021-08-24  88.550003   ORCL"
      ]
     },
     "execution_count": 3,
     "metadata": {},
     "output_type": "execute_result"
    }
   ],
   "source": [
    "df.head(3)"
   ]
  },
  {
   "cell_type": "code",
   "execution_count": 6,
   "id": "38925712",
   "metadata": {},
   "outputs": [],
   "source": [
    "import random\n",
    "\n",
    "# remove 20% of data randomly\n",
    "pct_missing = 0.2\n",
    "num_missing = int(pct_missing * len(df))\n",
    "indexes = random.sample(range(len(df)), k=num_missing)\n",
    "mask = [i in indexes for i in range(len(df))]\n",
    "\n",
    "# mask the dataframe with some random NaNs\n",
    "df[\"Close\"] = df[\"Close\"].mask(mask)"
   ]
  },
  {
   "cell_type": "code",
   "execution_count": 8,
   "id": "b8dbce2d",
   "metadata": {},
   "outputs": [
    {
     "data": {
      "text/html": [
       "<div>\n",
       "<style scoped>\n",
       "    .dataframe tbody tr th:only-of-type {\n",
       "        vertical-align: middle;\n",
       "    }\n",
       "\n",
       "    .dataframe tbody tr th {\n",
       "        vertical-align: top;\n",
       "    }\n",
       "\n",
       "    .dataframe thead th {\n",
       "        text-align: right;\n",
       "    }\n",
       "</style>\n",
       "<table border=\"1\" class=\"dataframe\">\n",
       "  <thead>\n",
       "    <tr style=\"text-align: right;\">\n",
       "      <th></th>\n",
       "      <th>Date</th>\n",
       "      <th>Close</th>\n",
       "      <th>Ticker</th>\n",
       "    </tr>\n",
       "  </thead>\n",
       "  <tbody>\n",
       "    <tr>\n",
       "      <th>0</th>\n",
       "      <td>2021-08-20</td>\n",
       "      <td>NaN</td>\n",
       "      <td>ORCL</td>\n",
       "    </tr>\n",
       "    <tr>\n",
       "      <th>1</th>\n",
       "      <td>2021-08-23</td>\n",
       "      <td>89.120003</td>\n",
       "      <td>ORCL</td>\n",
       "    </tr>\n",
       "    <tr>\n",
       "      <th>2</th>\n",
       "      <td>2021-08-24</td>\n",
       "      <td>NaN</td>\n",
       "      <td>ORCL</td>\n",
       "    </tr>\n",
       "    <tr>\n",
       "      <th>3</th>\n",
       "      <td>2021-08-25</td>\n",
       "      <td>88.620003</td>\n",
       "      <td>ORCL</td>\n",
       "    </tr>\n",
       "    <tr>\n",
       "      <th>4</th>\n",
       "      <td>2021-08-26</td>\n",
       "      <td>88.720001</td>\n",
       "      <td>ORCL</td>\n",
       "    </tr>\n",
       "  </tbody>\n",
       "</table>\n",
       "</div>"
      ],
      "text/plain": [
       "         Date      Close Ticker\n",
       "0  2021-08-20        NaN   ORCL\n",
       "1  2021-08-23  89.120003   ORCL\n",
       "2  2021-08-24        NaN   ORCL\n",
       "3  2021-08-25  88.620003   ORCL\n",
       "4  2021-08-26  88.720001   ORCL"
      ]
     },
     "execution_count": 8,
     "metadata": {},
     "output_type": "execute_result"
    }
   ],
   "source": [
    "df.head(5)"
   ]
  },
  {
   "cell_type": "code",
   "execution_count": 9,
   "id": "665d44c0",
   "metadata": {},
   "outputs": [],
   "source": [
    "# interpolate missing data paritioned by ticker\n",
    "\n",
    "df['Close_Interpolated'] = df.sort_values('Date').groupby('Ticker')['Close']\\\n",
    "                                                                 .transform(lambda x: x.interpolate(method='ffill'))\n"
   ]
  },
  {
   "cell_type": "code",
   "execution_count": 10,
   "id": "b27c0a94",
   "metadata": {},
   "outputs": [
    {
     "data": {
      "text/html": [
       "<div>\n",
       "<style scoped>\n",
       "    .dataframe tbody tr th:only-of-type {\n",
       "        vertical-align: middle;\n",
       "    }\n",
       "\n",
       "    .dataframe tbody tr th {\n",
       "        vertical-align: top;\n",
       "    }\n",
       "\n",
       "    .dataframe thead th {\n",
       "        text-align: right;\n",
       "    }\n",
       "</style>\n",
       "<table border=\"1\" class=\"dataframe\">\n",
       "  <thead>\n",
       "    <tr style=\"text-align: right;\">\n",
       "      <th></th>\n",
       "      <th>Date</th>\n",
       "      <th>Close</th>\n",
       "      <th>Ticker</th>\n",
       "      <th>Close_Interpolated</th>\n",
       "    </tr>\n",
       "  </thead>\n",
       "  <tbody>\n",
       "    <tr>\n",
       "      <th>0</th>\n",
       "      <td>2021-08-20</td>\n",
       "      <td>NaN</td>\n",
       "      <td>ORCL</td>\n",
       "      <td>NaN</td>\n",
       "    </tr>\n",
       "    <tr>\n",
       "      <th>1</th>\n",
       "      <td>2021-08-23</td>\n",
       "      <td>89.120003</td>\n",
       "      <td>ORCL</td>\n",
       "      <td>89.120003</td>\n",
       "    </tr>\n",
       "    <tr>\n",
       "      <th>2</th>\n",
       "      <td>2021-08-24</td>\n",
       "      <td>NaN</td>\n",
       "      <td>ORCL</td>\n",
       "      <td>89.120003</td>\n",
       "    </tr>\n",
       "    <tr>\n",
       "      <th>3</th>\n",
       "      <td>2021-08-25</td>\n",
       "      <td>88.620003</td>\n",
       "      <td>ORCL</td>\n",
       "      <td>88.620003</td>\n",
       "    </tr>\n",
       "    <tr>\n",
       "      <th>4</th>\n",
       "      <td>2021-08-26</td>\n",
       "      <td>88.720001</td>\n",
       "      <td>ORCL</td>\n",
       "      <td>88.720001</td>\n",
       "    </tr>\n",
       "  </tbody>\n",
       "</table>\n",
       "</div>"
      ],
      "text/plain": [
       "         Date      Close Ticker  Close_Interpolated\n",
       "0  2021-08-20        NaN   ORCL                 NaN\n",
       "1  2021-08-23  89.120003   ORCL           89.120003\n",
       "2  2021-08-24        NaN   ORCL           89.120003\n",
       "3  2021-08-25  88.620003   ORCL           88.620003\n",
       "4  2021-08-26  88.720001   ORCL           88.720001"
      ]
     },
     "execution_count": 10,
     "metadata": {},
     "output_type": "execute_result"
    }
   ],
   "source": [
    "df.head(5)"
   ]
  },
  {
   "cell_type": "code",
   "execution_count": null,
   "id": "674b8546",
   "metadata": {},
   "outputs": [],
   "source": []
  }
 ],
 "metadata": {
  "kernelspec": {
   "display_name": "Python 3 (ipykernel)",
   "language": "python",
   "name": "python3"
  },
  "language_info": {
   "codemirror_mode": {
    "name": "ipython",
    "version": 3
   },
   "file_extension": ".py",
   "mimetype": "text/x-python",
   "name": "python",
   "nbconvert_exporter": "python",
   "pygments_lexer": "ipython3",
   "version": "3.9.7"
  }
 },
 "nbformat": 4,
 "nbformat_minor": 5
}
