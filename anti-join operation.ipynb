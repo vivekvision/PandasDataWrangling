{
 "cells": [
  {
   "cell_type": "markdown",
   "id": "0efdb700",
   "metadata": {},
   "source": [
    "## perform an anti-join operation between two Pandas DataFrame"
   ]
  },
  {
   "cell_type": "markdown",
   "id": "c5ce51f6",
   "metadata": {},
   "source": [
    "Create two Pandas DataFrames df1 and df2 with columns 'A', 'B', and 'C' and columns 'A', 'B', and 'D', respectively. \n",
    "\n",
    "perform an anti-join operation between the two DataFrames using the merge() function. \n",
    "\n",
    "pass the on parameter to specify the columns to join on ('A' and 'B'), and the how parameter to specify the type of join operation ('left' in this case).\n",
    "\n",
    "The resulting merged DataFrame contains all rows from df1 and matching rows from df2, with NaN values in the columns from df2 for non-matching rows. \n",
    "\n",
    "then use boolean indexing to select only the rows that have the '_merge' column equal to 'left_only', indicating that they did not have a matching row in df2.\n",
    "\n",
    "Finally, use the .loc indexer to select only the columns from df1 and assign the resulting DataFrame to anti_join_df. \n",
    "\n",
    "The resulting DataFrame contains only the rows from df1 that did not have a matching row in df2, which is the result of the anti-join operation.\n",
    "\n",
    "\n",
    "\n",
    "\n",
    "\n"
   ]
  },
  {
   "cell_type": "code",
   "execution_count": null,
   "id": "4b8019eb",
   "metadata": {},
   "outputs": [],
   "source": []
  },
  {
   "cell_type": "code",
   "execution_count": 1,
   "id": "9cd92a2a",
   "metadata": {},
   "outputs": [
    {
     "data": {
      "text/html": [
       "<div>\n",
       "<style scoped>\n",
       "    .dataframe tbody tr th:only-of-type {\n",
       "        vertical-align: middle;\n",
       "    }\n",
       "\n",
       "    .dataframe tbody tr th {\n",
       "        vertical-align: top;\n",
       "    }\n",
       "\n",
       "    .dataframe thead th {\n",
       "        text-align: right;\n",
       "    }\n",
       "</style>\n",
       "<table border=\"1\" class=\"dataframe\">\n",
       "  <thead>\n",
       "    <tr style=\"text-align: right;\">\n",
       "      <th></th>\n",
       "      <th>A</th>\n",
       "      <th>B</th>\n",
       "      <th>C</th>\n",
       "    </tr>\n",
       "  </thead>\n",
       "  <tbody>\n",
       "    <tr>\n",
       "      <th>0</th>\n",
       "      <td>1</td>\n",
       "      <td>a</td>\n",
       "      <td>10</td>\n",
       "    </tr>\n",
       "    <tr>\n",
       "      <th>2</th>\n",
       "      <td>3</td>\n",
       "      <td>c</td>\n",
       "      <td>30</td>\n",
       "    </tr>\n",
       "    <tr>\n",
       "      <th>4</th>\n",
       "      <td>5</td>\n",
       "      <td>e</td>\n",
       "      <td>50</td>\n",
       "    </tr>\n",
       "  </tbody>\n",
       "</table>\n",
       "</div>"
      ],
      "text/plain": [
       "   A  B   C\n",
       "0  1  a  10\n",
       "2  3  c  30\n",
       "4  5  e  50"
      ]
     },
     "execution_count": 1,
     "metadata": {},
     "output_type": "execute_result"
    }
   ],
   "source": [
    "import pandas as pd\n",
    "import numpy as np\n",
    "\n",
    "# create the first hardcoded Pandas DataFrame\n",
    "df1 = pd.DataFrame({'A': [1, 2, 3, 4, 5], \n",
    "                   'B': ['a', 'b', 'c', 'd', 'e'],\n",
    "                   'C': [10, 20, 30, 40, 50]})\n",
    "\n",
    "# create the second hardcoded Pandas DataFrame\n",
    "df2 = pd.DataFrame({'A': [2, 4, 6], \n",
    "                   'B': ['b', 'd', 'f'],\n",
    "                   'D': [60, 80, 100]})\n",
    "\n",
    "# perform an anti-join using the merge function\n",
    "anti_join_df = pd.merge(df1, df2, on=['A', 'B'], how='left', indicator=True)\n",
    "anti_join_df = anti_join_df.loc[anti_join_df['_merge'] == 'left_only', df1.columns]\n",
    "\n",
    "\n",
    "anti_join_df\n"
   ]
  },
  {
   "cell_type": "code",
   "execution_count": null,
   "id": "d689edba",
   "metadata": {},
   "outputs": [],
   "source": []
  }
 ],
 "metadata": {
  "kernelspec": {
   "display_name": "Python 3 (ipykernel)",
   "language": "python",
   "name": "python3"
  },
  "language_info": {
   "codemirror_mode": {
    "name": "ipython",
    "version": 3
   },
   "file_extension": ".py",
   "mimetype": "text/x-python",
   "name": "python",
   "nbconvert_exporter": "python",
   "pygments_lexer": "ipython3",
   "version": "3.9.7"
  }
 },
 "nbformat": 4,
 "nbformat_minor": 5
}
