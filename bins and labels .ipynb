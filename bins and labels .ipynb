{
 "cells": [
  {
   "cell_type": "markdown",
   "id": "343359ab",
   "metadata": {},
   "source": [
    "Bin a Pandas DataFrame using the cut() function"
   ]
  },
  {
   "cell_type": "markdown",
   "id": "85b183b7",
   "metadata": {},
   "source": [
    "Create a sample Pandas DataFrame with columns 'A', 'B', and 'C'. \n",
    "\n",
    "Define the bins and labels that we want to use for binning. \n",
    "\n",
    "then create a new column 'D' using the cut() function, where we bin the values in column 'A' using the specified bins and labels. \n",
    "\n",
    "Create another new column 'E' using the cut() function, where we bin the values in column 'C' using 3 equal-width bins, with a custom label for NaN values. \n",
    "\n",
    "\n",
    "Use the cat.add_categories() function to add the label 'unknown' to the categories of the resulting categorical data, and the fillna() function to replace NaN values with 'unknown'. \n",
    "\n",
    "\n",
    "Finally, print the resulting DataFrame, which now has the columns 'A', 'B', 'C', 'D', and 'E', where columns 'D' and 'E' contain the binned values."
   ]
  },
  {
   "cell_type": "code",
   "execution_count": 2,
   "id": "8d012fd7",
   "metadata": {},
   "outputs": [
    {
     "data": {
      "text/html": [
       "<div>\n",
       "<style scoped>\n",
       "    .dataframe tbody tr th:only-of-type {\n",
       "        vertical-align: middle;\n",
       "    }\n",
       "\n",
       "    .dataframe tbody tr th {\n",
       "        vertical-align: top;\n",
       "    }\n",
       "\n",
       "    .dataframe thead th {\n",
       "        text-align: right;\n",
       "    }\n",
       "</style>\n",
       "<table border=\"1\" class=\"dataframe\">\n",
       "  <thead>\n",
       "    <tr style=\"text-align: right;\">\n",
       "      <th></th>\n",
       "      <th>A</th>\n",
       "      <th>B</th>\n",
       "      <th>C</th>\n",
       "      <th>D</th>\n",
       "      <th>E</th>\n",
       "    </tr>\n",
       "  </thead>\n",
       "  <tbody>\n",
       "    <tr>\n",
       "      <th>0</th>\n",
       "      <td>10</td>\n",
       "      <td>a</td>\n",
       "      <td>100</td>\n",
       "      <td>low</td>\n",
       "      <td>low</td>\n",
       "    </tr>\n",
       "    <tr>\n",
       "      <th>1</th>\n",
       "      <td>20</td>\n",
       "      <td>b</td>\n",
       "      <td>200</td>\n",
       "      <td>low</td>\n",
       "      <td>low</td>\n",
       "    </tr>\n",
       "    <tr>\n",
       "      <th>2</th>\n",
       "      <td>30</td>\n",
       "      <td>c</td>\n",
       "      <td>300</td>\n",
       "      <td>medium</td>\n",
       "      <td>medium</td>\n",
       "    </tr>\n",
       "    <tr>\n",
       "      <th>3</th>\n",
       "      <td>40</td>\n",
       "      <td>d</td>\n",
       "      <td>400</td>\n",
       "      <td>medium</td>\n",
       "      <td>high</td>\n",
       "    </tr>\n",
       "    <tr>\n",
       "      <th>4</th>\n",
       "      <td>50</td>\n",
       "      <td>e</td>\n",
       "      <td>500</td>\n",
       "      <td>high</td>\n",
       "      <td>high</td>\n",
       "    </tr>\n",
       "  </tbody>\n",
       "</table>\n",
       "</div>"
      ],
      "text/plain": [
       "    A  B    C       D       E\n",
       "0  10  a  100     low     low\n",
       "1  20  b  200     low     low\n",
       "2  30  c  300  medium  medium\n",
       "3  40  d  400  medium    high\n",
       "4  50  e  500    high    high"
      ]
     },
     "execution_count": 2,
     "metadata": {},
     "output_type": "execute_result"
    }
   ],
   "source": [
    "import pandas as pd\n",
    "import numpy as np\n",
    "\n",
    "# create a hardcoded Pandas DataFrame\n",
    "df = pd.DataFrame({'A': [10, 20, 30, 40, 50], \n",
    "                   'B': ['a', 'b', 'c', 'd', 'e'],\n",
    "                   'C': [100, 200, 300, 400, 500]})\n",
    "\n",
    "# define the bins and labels\n",
    "bins = [0, 20, 40, 60]\n",
    "labels = ['low', 'medium', 'high']\n",
    "\n",
    "# create a new column 'D' with the binned values\n",
    "df['D'] = pd.cut(df['A'], bins=bins, labels=labels)\n",
    "\n",
    "# create a new column 'E' with the binned values and a custom label for the NaN values\n",
    "df['E'] = pd.cut(df['C'], bins=3, labels=['low', 'medium', 'high'], include_lowest=True, right=False, \n",
    "                 retbins=False, precision=2).cat.add_categories(['unknown']).fillna('unknown')\n",
    "\n",
    "\n",
    "df\n"
   ]
  },
  {
   "cell_type": "code",
   "execution_count": null,
   "id": "0df2c70a",
   "metadata": {},
   "outputs": [],
   "source": []
  }
 ],
 "metadata": {
  "kernelspec": {
   "display_name": "Python 3 (ipykernel)",
   "language": "python",
   "name": "python3"
  },
  "language_info": {
   "codemirror_mode": {
    "name": "ipython",
    "version": 3
   },
   "file_extension": ".py",
   "mimetype": "text/x-python",
   "name": "python",
   "nbconvert_exporter": "python",
   "pygments_lexer": "ipython3",
   "version": "3.9.7"
  }
 },
 "nbformat": 4,
 "nbformat_minor": 5
}
