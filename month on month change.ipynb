{
 "cells": [
  {
   "cell_type": "markdown",
   "id": "63e11e24",
   "metadata": {},
   "source": [
    "calculate month-on-month change\n",
    "\n"
   ]
  },
  {
   "cell_type": "markdown",
   "id": "61e77adb",
   "metadata": {},
   "source": [
    "convert the 'date' column to a datetime object and sort the DataFrame by the 'date' column. \n",
    "\n",
    "create a new column 'value_lag' containing the value from the previous month using the shift() function. \n",
    "\n",
    "Finally, create a new column 'month_on_month_change' containing the month-on-month change in value by subtracting the 'value_lag' column from the 'value' column. \n",
    "\n",
    "The resulting DataFrame will show the month-on-month change in value for each row."
   ]
  },
  {
   "cell_type": "code",
   "execution_count": 1,
   "id": "cff9aea1",
   "metadata": {},
   "outputs": [
    {
     "data": {
      "text/html": [
       "<div>\n",
       "<style scoped>\n",
       "    .dataframe tbody tr th:only-of-type {\n",
       "        vertical-align: middle;\n",
       "    }\n",
       "\n",
       "    .dataframe tbody tr th {\n",
       "        vertical-align: top;\n",
       "    }\n",
       "\n",
       "    .dataframe thead th {\n",
       "        text-align: right;\n",
       "    }\n",
       "</style>\n",
       "<table border=\"1\" class=\"dataframe\">\n",
       "  <thead>\n",
       "    <tr style=\"text-align: right;\">\n",
       "      <th></th>\n",
       "      <th>date</th>\n",
       "      <th>value</th>\n",
       "      <th>value_lag</th>\n",
       "      <th>month_on_month_change</th>\n",
       "    </tr>\n",
       "  </thead>\n",
       "  <tbody>\n",
       "    <tr>\n",
       "      <th>0</th>\n",
       "      <td>2022-01-01</td>\n",
       "      <td>10</td>\n",
       "      <td>NaN</td>\n",
       "      <td>NaN</td>\n",
       "    </tr>\n",
       "    <tr>\n",
       "      <th>1</th>\n",
       "      <td>2022-02-01</td>\n",
       "      <td>20</td>\n",
       "      <td>10.0</td>\n",
       "      <td>10.0</td>\n",
       "    </tr>\n",
       "    <tr>\n",
       "      <th>2</th>\n",
       "      <td>2022-03-01</td>\n",
       "      <td>15</td>\n",
       "      <td>20.0</td>\n",
       "      <td>-5.0</td>\n",
       "    </tr>\n",
       "    <tr>\n",
       "      <th>3</th>\n",
       "      <td>2022-04-01</td>\n",
       "      <td>30</td>\n",
       "      <td>15.0</td>\n",
       "      <td>15.0</td>\n",
       "    </tr>\n",
       "    <tr>\n",
       "      <th>4</th>\n",
       "      <td>2022-05-01</td>\n",
       "      <td>25</td>\n",
       "      <td>30.0</td>\n",
       "      <td>-5.0</td>\n",
       "    </tr>\n",
       "  </tbody>\n",
       "</table>\n",
       "</div>"
      ],
      "text/plain": [
       "        date  value  value_lag  month_on_month_change\n",
       "0 2022-01-01     10        NaN                    NaN\n",
       "1 2022-02-01     20       10.0                   10.0\n",
       "2 2022-03-01     15       20.0                   -5.0\n",
       "3 2022-04-01     30       15.0                   15.0\n",
       "4 2022-05-01     25       30.0                   -5.0"
      ]
     },
     "execution_count": 1,
     "metadata": {},
     "output_type": "execute_result"
    }
   ],
   "source": [
    "import pandas as pd\n",
    "\n",
    "# create a hardcoded Pandas DataFrame\n",
    "df = pd.DataFrame({'date': ['2022-01-01', '2022-02-01', '2022-03-01', '2022-04-01', '2022-05-01'], \n",
    "                   'value': [10, 20, 15, 30, 25]})\n",
    "\n",
    "# convert the 'date' column to a datetime object\n",
    "df['date'] = pd.to_datetime(df['date'])\n",
    "\n",
    "# sort the DataFrame by the 'date' column\n",
    "df = df.sort_values('date')\n",
    "\n",
    "# create a new column 'value_lag' containing the value from the previous month\n",
    "df['value_lag'] = df['value'].shift(1)\n",
    "\n",
    "# create a new column 'month_on_month_change' containing the month-on-month change in value\n",
    "df['month_on_month_change'] = df['value'] - df['value_lag']\n",
    "\n",
    "df\n"
   ]
  },
  {
   "cell_type": "code",
   "execution_count": null,
   "id": "47d5ab0b",
   "metadata": {},
   "outputs": [],
   "source": []
  }
 ],
 "metadata": {
  "kernelspec": {
   "display_name": "Python 3 (ipykernel)",
   "language": "python",
   "name": "python3"
  },
  "language_info": {
   "codemirror_mode": {
    "name": "ipython",
    "version": 3
   },
   "file_extension": ".py",
   "mimetype": "text/x-python",
   "name": "python",
   "nbconvert_exporter": "python",
   "pygments_lexer": "ipython3",
   "version": "3.9.7"
  }
 },
 "nbformat": 4,
 "nbformat_minor": 5
}
