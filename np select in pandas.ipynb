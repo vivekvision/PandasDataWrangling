{
 "cells": [
  {
   "cell_type": "markdown",
   "id": "642d1286",
   "metadata": {},
   "source": [
    "example code demonstrates usage of np.select() to apply complicated data wrangling on a Pandas DataFrame,\n",
    "\n",
    "Manipulate and transform data in a flexible and powerful way\n",
    "\n"
   ]
  },
  {
   "cell_type": "markdown",
   "id": "5964807e",
   "metadata": {},
   "source": [
    "Pandas DataFrame with three columns A, B, and C. \n",
    "\n",
    "\n",
    "use np.select() to create two new columns D and E based on some complicated logic.\n",
    "\n",
    "For column D, define two conditions using boolean expressions that involve columns A and B. \n",
    "\n",
    "If the first condition is true, multiply the value in column C by 2. \n",
    "\n",
    "If the second condition is true, add 5 to the value in column C. \n",
    "\n",
    "If neither condition is true, simply copy the value from column C. \n",
    "\n",
    "then pass the conditions and corresponding values to np.select() along with a default value of df['C'] to create the new column D.\n",
    "\n",
    "For column E, define three bins and corresponding labels using pd.cut().\n",
    "\n",
    "then pass the values in column D along with the bins and labels to pd.cut() to create a new column E that categorizes the values in column D based on the specified bins and labels.\n",
    "\n"
   ]
  },
  {
   "cell_type": "code",
   "execution_count": 5,
   "id": "cbed1f0b",
   "metadata": {},
   "outputs": [],
   "source": [
    "import pandas as pd\n",
    "import numpy as np\n",
    "\n",
    "# create a hardcoded Pandas DataFrame\n",
    "df = pd.DataFrame({'A': [1, 2, 3, 4, 5], \n",
    "                   'B': ['a', 'b', 'c', 'd', 'e'],\n",
    "                   'C': [10, 20, 30, 40, 50]})\n",
    "\n",
    "# apply a complicated data wrangling using np.select()\n",
    "conditions = [\n",
    "    (df['A'] > 2) & (df['B'] != 'c'),\n",
    "    (df['A'] <= 2) | (df['B'] == 'd')\n",
    "]\n",
    "values = [\n",
    "    df['C'] * 2,\n",
    "    df['C'] + 5\n",
    "]\n",
    "df['D'] = np.select(conditions, values, default=df['C'])\n",
    "\n",
    "\n"
   ]
  },
  {
   "cell_type": "code",
   "execution_count": 3,
   "id": "312811ea",
   "metadata": {},
   "outputs": [],
   "source": [
    "# create the bins for the categorical variable\n",
    "bins = [-np.inf, 40, 70, np.inf]\n",
    "\n",
    "# create the labels for the categorical variable\n",
    "labels = ['low', 'medium', 'high']\n",
    "\n",
    "# use pd.cut() to create the categorical variable\n",
    "df['E'] = pd.cut(df['D'], bins=bins, labels=labels, right=False)"
   ]
  },
  {
   "cell_type": "code",
   "execution_count": 4,
   "id": "7ec90b5f",
   "metadata": {},
   "outputs": [
    {
     "data": {
      "text/html": [
       "<div>\n",
       "<style scoped>\n",
       "    .dataframe tbody tr th:only-of-type {\n",
       "        vertical-align: middle;\n",
       "    }\n",
       "\n",
       "    .dataframe tbody tr th {\n",
       "        vertical-align: top;\n",
       "    }\n",
       "\n",
       "    .dataframe thead th {\n",
       "        text-align: right;\n",
       "    }\n",
       "</style>\n",
       "<table border=\"1\" class=\"dataframe\">\n",
       "  <thead>\n",
       "    <tr style=\"text-align: right;\">\n",
       "      <th></th>\n",
       "      <th>A</th>\n",
       "      <th>B</th>\n",
       "      <th>C</th>\n",
       "      <th>D</th>\n",
       "      <th>E</th>\n",
       "    </tr>\n",
       "  </thead>\n",
       "  <tbody>\n",
       "    <tr>\n",
       "      <th>0</th>\n",
       "      <td>1</td>\n",
       "      <td>a</td>\n",
       "      <td>10</td>\n",
       "      <td>15</td>\n",
       "      <td>low</td>\n",
       "    </tr>\n",
       "    <tr>\n",
       "      <th>1</th>\n",
       "      <td>2</td>\n",
       "      <td>b</td>\n",
       "      <td>20</td>\n",
       "      <td>25</td>\n",
       "      <td>low</td>\n",
       "    </tr>\n",
       "    <tr>\n",
       "      <th>2</th>\n",
       "      <td>3</td>\n",
       "      <td>c</td>\n",
       "      <td>30</td>\n",
       "      <td>30</td>\n",
       "      <td>low</td>\n",
       "    </tr>\n",
       "    <tr>\n",
       "      <th>3</th>\n",
       "      <td>4</td>\n",
       "      <td>d</td>\n",
       "      <td>40</td>\n",
       "      <td>80</td>\n",
       "      <td>high</td>\n",
       "    </tr>\n",
       "    <tr>\n",
       "      <th>4</th>\n",
       "      <td>5</td>\n",
       "      <td>e</td>\n",
       "      <td>50</td>\n",
       "      <td>100</td>\n",
       "      <td>high</td>\n",
       "    </tr>\n",
       "  </tbody>\n",
       "</table>\n",
       "</div>"
      ],
      "text/plain": [
       "   A  B   C    D     E\n",
       "0  1  a  10   15   low\n",
       "1  2  b  20   25   low\n",
       "2  3  c  30   30   low\n",
       "3  4  d  40   80  high\n",
       "4  5  e  50  100  high"
      ]
     },
     "execution_count": 4,
     "metadata": {},
     "output_type": "execute_result"
    }
   ],
   "source": [
    "df"
   ]
  }
 ],
 "metadata": {
  "kernelspec": {
   "display_name": "Python 3 (ipykernel)",
   "language": "python",
   "name": "python3"
  },
  "language_info": {
   "codemirror_mode": {
    "name": "ipython",
    "version": 3
   },
   "file_extension": ".py",
   "mimetype": "text/x-python",
   "name": "python",
   "nbconvert_exporter": "python",
   "pygments_lexer": "ipython3",
   "version": "3.9.7"
  }
 },
 "nbformat": 4,
 "nbformat_minor": 5
}
