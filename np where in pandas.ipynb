{
 "cells": [
  {
   "cell_type": "markdown",
   "id": "ab02a096",
   "metadata": {},
   "source": [
    "example code demonstrates how np.where() can be used to apply complicated data wrangling on a Pandas DataFrame, allowing to manipulate and transform data in a flexible and powerful way."
   ]
  },
  {
   "cell_type": "markdown",
   "id": "3f3bb8b5",
   "metadata": {},
   "source": [
    "Pandas DataFrame with three columns A, B, and C. \n",
    "\n",
    "\n",
    "Use np.where() to create three new columns D, E, and F based on some complicated logic.\n",
    "\n",
    "For column D, we use np.where() to check if the value in column A is greater than 2 AND the value in column B is not equal to 'c'. If the condition is true, we multiply the value in column C by 2 and assign the result to column D. If the condition is false, we simply copy the value from column C to column D.\n",
    "\n",
    "For column E, we use np.where() to check if the value in column A is less than or equal to 2 OR the value in column B is equal to 'd'. If the condition is true, we add 5 to the value in column C and assign the result to column E. If the condition is false, we subtract 5 from the value in column C and assign the result to column E.\n",
    "\n",
    "For column F, we use nested np.where() statements to assign a label ('high', 'medium', or 'low') based on the value in column D. If the value in column D is greater than or equal to 70, we assign the label 'high'. If the value in column D is between 40 and 70, we assign the label 'medium'. Otherwise, we assign the label 'low'.\n",
    "\n",
    "\n",
    "\n"
   ]
  },
  {
   "cell_type": "code",
   "execution_count": 1,
   "id": "1f9596ec",
   "metadata": {},
   "outputs": [
    {
     "name": "stdout",
     "output_type": "stream",
     "text": [
      "   A  B   C    D   E     F\n",
      "0  1  a  10   10  15   low\n",
      "1  2  b  20   20  25   low\n",
      "2  3  c  30   30  25   low\n",
      "3  4  d  40   80  45  high\n",
      "4  5  e  50  100  45  high\n"
     ]
    }
   ],
   "source": [
    "import pandas as pd\n",
    "import numpy as np\n",
    "\n",
    "# create a hardcoded Pandas DataFrame\n",
    "df = pd.DataFrame({'A': [1, 2, 3, 4, 5], \n",
    "                   'B': ['a', 'b', 'c', 'd', 'e'],\n",
    "                   'C': [10, 20, 30, 40, 50]})\n",
    "\n",
    "# apply a complicated data wrangling using np.where()\n",
    "df['D'] = np.where((df['A'] > 2) & (df['B'] != 'c'), df['C'] * 2, df['C'])\n",
    "\n",
    "\n",
    "df['E'] = np.where((df['A'] <= 2) | (df['B'] == 'd'), df['C'] + 5, df['C'] - 5)\n",
    "\n",
    "df['F'] = np.where(df['D'] >= 70, 'high', np.where(df['D'] >= 40, 'medium', 'low'))\n",
    "\n",
    "print(df)\n"
   ]
  },
  {
   "cell_type": "code",
   "execution_count": null,
   "id": "812c0d4e",
   "metadata": {},
   "outputs": [],
   "source": []
  }
 ],
 "metadata": {
  "kernelspec": {
   "display_name": "Python 3 (ipykernel)",
   "language": "python",
   "name": "python3"
  },
  "language_info": {
   "codemirror_mode": {
    "name": "ipython",
    "version": 3
   },
   "file_extension": ".py",
   "mimetype": "text/x-python",
   "name": "python",
   "nbconvert_exporter": "python",
   "pygments_lexer": "ipython3",
   "version": "3.9.7"
  }
 },
 "nbformat": 4,
 "nbformat_minor": 5
}
