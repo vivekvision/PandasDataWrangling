{
 "cells": [
  {
   "cell_type": "markdown",
   "id": "30f1bca7",
   "metadata": {},
   "source": [
    "create a pivot table with 'product' as the rows, 'month' as the columns, and 'revenue' as the values. \n",
    "\n",
    "use the 'sum' aggregation function to sum the revenues for each product and month. \n",
    "\n",
    "Then, sort the pivot table by the sum of revenues in descending order using the sort_values() function.\n",
    "\n",
    "extract the product with the highest revenue and assign it to the variable 'highest_revenue_product' using the index() \n",
    "function to select the first row. \n",
    "\n",
    "also extract the product with the second highest revenue and assign it to the variable 'second_highest_revenue_product' using the index() function to select the second row. \n",
    "\n",
    "Finally, print out the names of the two products."
   ]
  },
  {
   "cell_type": "code",
   "execution_count": null,
   "id": "936d6e9e",
   "metadata": {},
   "outputs": [],
   "source": []
  },
  {
   "cell_type": "code",
   "execution_count": 5,
   "id": "644f58ab",
   "metadata": {},
   "outputs": [],
   "source": [
    "import pandas as pd\n",
    "\n",
    "# create a hardcoded Pandas DataFrame\n",
    "df = pd.DataFrame({'product': ['A', 'B', 'C', 'D', 'E', 'A', 'B', 'C', 'D', 'E'], \n",
    "                   'month': ['Jan', 'Jan', 'Jan', 'Jan', 'Jan', 'Feb', 'Feb', 'Feb', 'Feb', 'Feb'], \n",
    "                   'revenue': [100, 200, 150, 300, 250, 150, 250, 200, 350, 300]})\n",
    "\n",
    "# create a pivot table with 'product' as the rows and 'month' as the columns, with 'revenue' as the values\n",
    "pivot = pd.pivot_table(df, index='product', columns='month', values='revenue', aggfunc='sum')"
   ]
  },
  {
   "cell_type": "code",
   "execution_count": 6,
   "id": "8f7b9077",
   "metadata": {},
   "outputs": [
    {
     "data": {
      "text/html": [
       "<div>\n",
       "<style scoped>\n",
       "    .dataframe tbody tr th:only-of-type {\n",
       "        vertical-align: middle;\n",
       "    }\n",
       "\n",
       "    .dataframe tbody tr th {\n",
       "        vertical-align: top;\n",
       "    }\n",
       "\n",
       "    .dataframe thead th {\n",
       "        text-align: right;\n",
       "    }\n",
       "</style>\n",
       "<table border=\"1\" class=\"dataframe\">\n",
       "  <thead>\n",
       "    <tr style=\"text-align: right;\">\n",
       "      <th>month</th>\n",
       "      <th>Feb</th>\n",
       "      <th>Jan</th>\n",
       "    </tr>\n",
       "    <tr>\n",
       "      <th>product</th>\n",
       "      <th></th>\n",
       "      <th></th>\n",
       "    </tr>\n",
       "  </thead>\n",
       "  <tbody>\n",
       "    <tr>\n",
       "      <th>A</th>\n",
       "      <td>150</td>\n",
       "      <td>100</td>\n",
       "    </tr>\n",
       "    <tr>\n",
       "      <th>B</th>\n",
       "      <td>250</td>\n",
       "      <td>200</td>\n",
       "    </tr>\n",
       "    <tr>\n",
       "      <th>C</th>\n",
       "      <td>200</td>\n",
       "      <td>150</td>\n",
       "    </tr>\n",
       "    <tr>\n",
       "      <th>D</th>\n",
       "      <td>350</td>\n",
       "      <td>300</td>\n",
       "    </tr>\n",
       "    <tr>\n",
       "      <th>E</th>\n",
       "      <td>300</td>\n",
       "      <td>250</td>\n",
       "    </tr>\n",
       "  </tbody>\n",
       "</table>\n",
       "</div>"
      ],
      "text/plain": [
       "month    Feb  Jan\n",
       "product          \n",
       "A        150  100\n",
       "B        250  200\n",
       "C        200  150\n",
       "D        350  300\n",
       "E        300  250"
      ]
     },
     "execution_count": 6,
     "metadata": {},
     "output_type": "execute_result"
    }
   ],
   "source": [
    "pivot"
   ]
  },
  {
   "cell_type": "code",
   "execution_count": 9,
   "id": "2c10fc3b",
   "metadata": {},
   "outputs": [],
   "source": [
    "pivot['total'] = pivot['Feb'] + pivot['Jan']"
   ]
  },
  {
   "cell_type": "code",
   "execution_count": 10,
   "id": "a120d030",
   "metadata": {},
   "outputs": [
    {
     "data": {
      "text/html": [
       "<div>\n",
       "<style scoped>\n",
       "    .dataframe tbody tr th:only-of-type {\n",
       "        vertical-align: middle;\n",
       "    }\n",
       "\n",
       "    .dataframe tbody tr th {\n",
       "        vertical-align: top;\n",
       "    }\n",
       "\n",
       "    .dataframe thead th {\n",
       "        text-align: right;\n",
       "    }\n",
       "</style>\n",
       "<table border=\"1\" class=\"dataframe\">\n",
       "  <thead>\n",
       "    <tr style=\"text-align: right;\">\n",
       "      <th>month</th>\n",
       "      <th>Feb</th>\n",
       "      <th>Jan</th>\n",
       "      <th>total</th>\n",
       "    </tr>\n",
       "    <tr>\n",
       "      <th>product</th>\n",
       "      <th></th>\n",
       "      <th></th>\n",
       "      <th></th>\n",
       "    </tr>\n",
       "  </thead>\n",
       "  <tbody>\n",
       "    <tr>\n",
       "      <th>A</th>\n",
       "      <td>150</td>\n",
       "      <td>100</td>\n",
       "      <td>250</td>\n",
       "    </tr>\n",
       "    <tr>\n",
       "      <th>B</th>\n",
       "      <td>250</td>\n",
       "      <td>200</td>\n",
       "      <td>450</td>\n",
       "    </tr>\n",
       "    <tr>\n",
       "      <th>C</th>\n",
       "      <td>200</td>\n",
       "      <td>150</td>\n",
       "      <td>350</td>\n",
       "    </tr>\n",
       "    <tr>\n",
       "      <th>D</th>\n",
       "      <td>350</td>\n",
       "      <td>300</td>\n",
       "      <td>650</td>\n",
       "    </tr>\n",
       "    <tr>\n",
       "      <th>E</th>\n",
       "      <td>300</td>\n",
       "      <td>250</td>\n",
       "      <td>550</td>\n",
       "    </tr>\n",
       "  </tbody>\n",
       "</table>\n",
       "</div>"
      ],
      "text/plain": [
       "month    Feb  Jan  total\n",
       "product                 \n",
       "A        150  100    250\n",
       "B        250  200    450\n",
       "C        200  150    350\n",
       "D        350  300    650\n",
       "E        300  250    550"
      ]
     },
     "execution_count": 10,
     "metadata": {},
     "output_type": "execute_result"
    }
   ],
   "source": [
    "pivot"
   ]
  },
  {
   "cell_type": "code",
   "execution_count": 11,
   "id": "c7c67eed",
   "metadata": {},
   "outputs": [],
   "source": [
    "# sort the pivot table by the sum of revenues in descending order\n",
    "pivot = pivot.sort_values('total', ascending=False)"
   ]
  },
  {
   "cell_type": "code",
   "execution_count": 12,
   "id": "e3dbbd98",
   "metadata": {},
   "outputs": [
    {
     "data": {
      "text/html": [
       "<div>\n",
       "<style scoped>\n",
       "    .dataframe tbody tr th:only-of-type {\n",
       "        vertical-align: middle;\n",
       "    }\n",
       "\n",
       "    .dataframe tbody tr th {\n",
       "        vertical-align: top;\n",
       "    }\n",
       "\n",
       "    .dataframe thead th {\n",
       "        text-align: right;\n",
       "    }\n",
       "</style>\n",
       "<table border=\"1\" class=\"dataframe\">\n",
       "  <thead>\n",
       "    <tr style=\"text-align: right;\">\n",
       "      <th>month</th>\n",
       "      <th>Feb</th>\n",
       "      <th>Jan</th>\n",
       "      <th>total</th>\n",
       "    </tr>\n",
       "    <tr>\n",
       "      <th>product</th>\n",
       "      <th></th>\n",
       "      <th></th>\n",
       "      <th></th>\n",
       "    </tr>\n",
       "  </thead>\n",
       "  <tbody>\n",
       "    <tr>\n",
       "      <th>D</th>\n",
       "      <td>350</td>\n",
       "      <td>300</td>\n",
       "      <td>650</td>\n",
       "    </tr>\n",
       "    <tr>\n",
       "      <th>E</th>\n",
       "      <td>300</td>\n",
       "      <td>250</td>\n",
       "      <td>550</td>\n",
       "    </tr>\n",
       "    <tr>\n",
       "      <th>B</th>\n",
       "      <td>250</td>\n",
       "      <td>200</td>\n",
       "      <td>450</td>\n",
       "    </tr>\n",
       "    <tr>\n",
       "      <th>C</th>\n",
       "      <td>200</td>\n",
       "      <td>150</td>\n",
       "      <td>350</td>\n",
       "    </tr>\n",
       "    <tr>\n",
       "      <th>A</th>\n",
       "      <td>150</td>\n",
       "      <td>100</td>\n",
       "      <td>250</td>\n",
       "    </tr>\n",
       "  </tbody>\n",
       "</table>\n",
       "</div>"
      ],
      "text/plain": [
       "month    Feb  Jan  total\n",
       "product                 \n",
       "D        350  300    650\n",
       "E        300  250    550\n",
       "B        250  200    450\n",
       "C        200  150    350\n",
       "A        150  100    250"
      ]
     },
     "execution_count": 12,
     "metadata": {},
     "output_type": "execute_result"
    }
   ],
   "source": [
    "pivot"
   ]
  },
  {
   "cell_type": "code",
   "execution_count": 13,
   "id": "b3fcd077",
   "metadata": {},
   "outputs": [
    {
     "name": "stdout",
     "output_type": "stream",
     "text": [
      "The product with the highest revenue is D\n",
      "The product with the second highest revenue is E\n"
     ]
    }
   ],
   "source": [
    "# extract the product with the highest revenue and assign it to the variable 'highest_revenue_product'\n",
    "highest_revenue_product = pivot.index[0]\n",
    "\n",
    "# extract the product with the second highest revenue and assign it to the variable 'second_highest_revenue_product'\n",
    "second_highest_revenue_product = pivot.index[1]\n",
    "\n",
    "print(\"The product with the highest revenue is\", highest_revenue_product)\n",
    "print(\"The product with the second highest revenue is\", second_highest_revenue_product)"
   ]
  },
  {
   "cell_type": "code",
   "execution_count": null,
   "id": "7bde2c4a",
   "metadata": {},
   "outputs": [],
   "source": []
  }
 ],
 "metadata": {
  "kernelspec": {
   "display_name": "Python 3 (ipykernel)",
   "language": "python",
   "name": "python3"
  },
  "language_info": {
   "codemirror_mode": {
    "name": "ipython",
    "version": 3
   },
   "file_extension": ".py",
   "mimetype": "text/x-python",
   "name": "python",
   "nbconvert_exporter": "python",
   "pygments_lexer": "ipython3",
   "version": "3.9.7"
  }
 },
 "nbformat": 4,
 "nbformat_minor": 5
}
