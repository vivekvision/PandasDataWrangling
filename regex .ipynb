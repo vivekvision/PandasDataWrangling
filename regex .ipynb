{
 "cells": [
  {
   "cell_type": "markdown",
   "id": "5e6f017a",
   "metadata": {},
   "source": [
    "use regex to manipulate string columns "
   ]
  },
  {
   "cell_type": "markdown",
   "id": "26d42e4e",
   "metadata": {},
   "source": [
    "Create Pandas DataFrame df with a string column 'A' and a numerical column 'B'\n",
    "\n",
    "then use the .str accessor to apply regex patterns to manipulate the 'A' column\n",
    "\n",
    "First, use the extract() method to extract the numbers from the 'A' column and create a new column 'C' with the extracted values\n",
    "\n",
    "Next, use the replace() method to replace all lowercase letters in the 'A' column with the character 'X'\n",
    "\n",
    "Finally, use the split() method to split the 'A' column into three columns 'D', 'E', and 'F', with the middle column ('E') containing the extracted numbers. \n",
    "\n",
    "use regex capture groups to keep the extracted numbers in the middle column and put the rest of the string in the first and third columns\n",
    "\n",
    "The resulting DataFrame contains the original columns 'A' and 'B', as well as the new columns 'C', 'D', 'E', and 'F' that were created using regex patterns."
   ]
  },
  {
   "cell_type": "code",
   "execution_count": null,
   "id": "b19ef7c9",
   "metadata": {},
   "outputs": [],
   "source": []
  },
  {
   "cell_type": "code",
   "execution_count": 1,
   "id": "bab3c14c",
   "metadata": {},
   "outputs": [
    {
     "name": "stderr",
     "output_type": "stream",
     "text": [
      "C:\\Users\\Home\\AppData\\Local\\Temp/ipykernel_15604/2772964516.py:12: FutureWarning: The default value of regex will change from True to False in a future version.\n",
      "  df['A'] = df['A'].str.replace(r'[a-z]', 'X')\n"
     ]
    },
    {
     "data": {
      "text/html": [
       "<div>\n",
       "<style scoped>\n",
       "    .dataframe tbody tr th:only-of-type {\n",
       "        vertical-align: middle;\n",
       "    }\n",
       "\n",
       "    .dataframe tbody tr th {\n",
       "        vertical-align: top;\n",
       "    }\n",
       "\n",
       "    .dataframe thead th {\n",
       "        text-align: right;\n",
       "    }\n",
       "</style>\n",
       "<table border=\"1\" class=\"dataframe\">\n",
       "  <thead>\n",
       "    <tr style=\"text-align: right;\">\n",
       "      <th></th>\n",
       "      <th>A</th>\n",
       "      <th>B</th>\n",
       "      <th>C</th>\n",
       "      <th>D</th>\n",
       "      <th>E</th>\n",
       "      <th>F</th>\n",
       "    </tr>\n",
       "  </thead>\n",
       "  <tbody>\n",
       "    <tr>\n",
       "      <th>0</th>\n",
       "      <td>XXX123</td>\n",
       "      <td>10</td>\n",
       "      <td>123</td>\n",
       "      <td>123</td>\n",
       "      <td>XXX</td>\n",
       "      <td></td>\n",
       "    </tr>\n",
       "    <tr>\n",
       "      <th>1</th>\n",
       "      <td>XXX456</td>\n",
       "      <td>20</td>\n",
       "      <td>456</td>\n",
       "      <td>456</td>\n",
       "      <td>XXX</td>\n",
       "      <td></td>\n",
       "    </tr>\n",
       "    <tr>\n",
       "      <th>2</th>\n",
       "      <td>XXX789</td>\n",
       "      <td>30</td>\n",
       "      <td>789</td>\n",
       "      <td>789</td>\n",
       "      <td>XXX</td>\n",
       "      <td></td>\n",
       "    </tr>\n",
       "    <tr>\n",
       "      <th>3</th>\n",
       "      <td>XXX012</td>\n",
       "      <td>40</td>\n",
       "      <td>012</td>\n",
       "      <td>012</td>\n",
       "      <td>XXX</td>\n",
       "      <td></td>\n",
       "    </tr>\n",
       "  </tbody>\n",
       "</table>\n",
       "</div>"
      ],
      "text/plain": [
       "        A   B    C    D    E F\n",
       "0  XXX123  10  123  123  XXX  \n",
       "1  XXX456  20  456  456  XXX  \n",
       "2  XXX789  30  789  789  XXX  \n",
       "3  XXX012  40  012  012  XXX  "
      ]
     },
     "execution_count": 1,
     "metadata": {},
     "output_type": "execute_result"
    }
   ],
   "source": [
    "import pandas as pd\n",
    "import numpy as np\n",
    "\n",
    "# create a hardcoded Pandas DataFrame with a string column\n",
    "df = pd.DataFrame({'A': ['abc123', 'def456', 'ghi789', 'jkl012'],\n",
    "                   'B': [10, 20, 30, 40]})\n",
    "\n",
    "# apply a regex pattern to extract numbers from column A\n",
    "df['C'] = df['A'].str.extract(r'(\\d+)', expand=False)\n",
    "\n",
    "# apply a regex pattern to replace characters in column A\n",
    "df['A'] = df['A'].str.replace(r'[a-z]', 'X')\n",
    "\n",
    "# apply a regex pattern to split column A into multiple columns\n",
    "df[['D', 'E', 'F']] = df['A'].str.split(r'(\\d+)', expand=True)[[1, 0, 2]]\n",
    "\n",
    "df\n"
   ]
  },
  {
   "cell_type": "code",
   "execution_count": null,
   "id": "cd0b0c23",
   "metadata": {},
   "outputs": [],
   "source": []
  }
 ],
 "metadata": {
  "kernelspec": {
   "display_name": "Python 3 (ipykernel)",
   "language": "python",
   "name": "python3"
  },
  "language_info": {
   "codemirror_mode": {
    "name": "ipython",
    "version": 3
   },
   "file_extension": ".py",
   "mimetype": "text/x-python",
   "name": "python",
   "nbconvert_exporter": "python",
   "pygments_lexer": "ipython3",
   "version": "3.9.7"
  }
 },
 "nbformat": 4,
 "nbformat_minor": 5
}
