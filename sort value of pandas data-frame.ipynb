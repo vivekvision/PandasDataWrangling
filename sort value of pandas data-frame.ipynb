{
 "cells": [
  {
   "cell_type": "code",
   "execution_count": null,
   "id": "8776b44f",
   "metadata": {},
   "outputs": [],
   "source": []
  },
  {
   "cell_type": "markdown",
   "id": "ad072971",
   "metadata": {},
   "source": [
    "sort the DataFrame by the 'revenue' column in descending order. \n",
    "\n",
    "Then, extract the product with the highest revenue and assign it to the variable 'highest_revenue_product' using the iloc() function to select the first row. \n",
    "\n",
    "\n",
    "extract the product with the second highest revenue and assign it to the variable 'second_highest_revenue_product' using the iloc() function to select the second row. \n",
    "\n",
    "Finally, print out the names of the two products."
   ]
  },
  {
   "cell_type": "code",
   "execution_count": 2,
   "id": "ea6e5160",
   "metadata": {},
   "outputs": [],
   "source": [
    "import pandas as pd\n",
    "\n",
    "# create a hardcoded Pandas DataFrame\n",
    "df = pd.DataFrame({'product': ['A', 'B', 'C', 'D', 'E'], \n",
    "                   'revenue': [100, 200, 150, 300, 250]})\n",
    "\n",
    "# sort the DataFrame by the 'revenue' column in descending order\n",
    "df = df.sort_values('revenue', ascending=False)"
   ]
  },
  {
   "cell_type": "code",
   "execution_count": 3,
   "id": "f46449d8",
   "metadata": {},
   "outputs": [
    {
     "data": {
      "text/html": [
       "<div>\n",
       "<style scoped>\n",
       "    .dataframe tbody tr th:only-of-type {\n",
       "        vertical-align: middle;\n",
       "    }\n",
       "\n",
       "    .dataframe tbody tr th {\n",
       "        vertical-align: top;\n",
       "    }\n",
       "\n",
       "    .dataframe thead th {\n",
       "        text-align: right;\n",
       "    }\n",
       "</style>\n",
       "<table border=\"1\" class=\"dataframe\">\n",
       "  <thead>\n",
       "    <tr style=\"text-align: right;\">\n",
       "      <th></th>\n",
       "      <th>product</th>\n",
       "      <th>revenue</th>\n",
       "    </tr>\n",
       "  </thead>\n",
       "  <tbody>\n",
       "    <tr>\n",
       "      <th>3</th>\n",
       "      <td>D</td>\n",
       "      <td>300</td>\n",
       "    </tr>\n",
       "    <tr>\n",
       "      <th>4</th>\n",
       "      <td>E</td>\n",
       "      <td>250</td>\n",
       "    </tr>\n",
       "    <tr>\n",
       "      <th>1</th>\n",
       "      <td>B</td>\n",
       "      <td>200</td>\n",
       "    </tr>\n",
       "    <tr>\n",
       "      <th>2</th>\n",
       "      <td>C</td>\n",
       "      <td>150</td>\n",
       "    </tr>\n",
       "    <tr>\n",
       "      <th>0</th>\n",
       "      <td>A</td>\n",
       "      <td>100</td>\n",
       "    </tr>\n",
       "  </tbody>\n",
       "</table>\n",
       "</div>"
      ],
      "text/plain": [
       "  product  revenue\n",
       "3       D      300\n",
       "4       E      250\n",
       "1       B      200\n",
       "2       C      150\n",
       "0       A      100"
      ]
     },
     "execution_count": 3,
     "metadata": {},
     "output_type": "execute_result"
    }
   ],
   "source": [
    "df"
   ]
  },
  {
   "cell_type": "code",
   "execution_count": 1,
   "id": "2e3dffd8",
   "metadata": {},
   "outputs": [
    {
     "name": "stdout",
     "output_type": "stream",
     "text": [
      "The product with the highest revenue is D\n",
      "The product with the second highest revenue is E\n"
     ]
    }
   ],
   "source": [
    "# extract the product with the highest revenue and assign it to the variable 'highest_revenue_product'\n",
    "highest_revenue_product = df.iloc[0]['product']\n",
    "\n",
    "# extract the product with the second highest revenue and assign it to the variable 'second_highest_revenue_product'\n",
    "second_highest_revenue_product = df.iloc[1]['product']\n",
    "\n",
    "print(\"The product with the highest revenue is\", highest_revenue_product)\n",
    "print(\"The product with the second highest revenue is\", second_highest_revenue_product)"
   ]
  },
  {
   "cell_type": "code",
   "execution_count": null,
   "id": "e0f159cc",
   "metadata": {},
   "outputs": [],
   "source": []
  },
  {
   "cell_type": "code",
   "execution_count": null,
   "id": "c7feab33",
   "metadata": {},
   "outputs": [],
   "source": []
  }
 ],
 "metadata": {
  "kernelspec": {
   "display_name": "Python 3 (ipykernel)",
   "language": "python",
   "name": "python3"
  },
  "language_info": {
   "codemirror_mode": {
    "name": "ipython",
    "version": 3
   },
   "file_extension": ".py",
   "mimetype": "text/x-python",
   "name": "python",
   "nbconvert_exporter": "python",
   "pygments_lexer": "ipython3",
   "version": "3.9.7"
  }
 },
 "nbformat": 4,
 "nbformat_minor": 5
}
